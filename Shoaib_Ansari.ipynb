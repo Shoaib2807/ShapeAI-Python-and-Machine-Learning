{
  "nbformat": 4,
  "nbformat_minor": 0,
  "metadata": {
    "colab": {
      "name": "Shoaib Ansari.ipynb",
      "provenance": []
    },
    "kernelspec": {
      "name": "python3",
      "display_name": "Python 3"
    },
    "language_info": {
      "name": "python"
    }
  },
  "cells": [
    {
      "cell_type": "code",
      "metadata": {
        "colab": {
          "base_uri": "https://localhost:8080/",
          "height": 129
        },
        "id": "4QIOqvOBVzk0",
        "outputId": "4cb1a4f9-c604-4062-917d-55f8dff0b117"
      },
      "source": [
        "import numpy as np\n",
        "import pandas as pd\n",
        "import sklearn\n",
        "\n",
        "from sklearn.datasets import load_boston\n",
        "df = load_boston ()\n",
        "\n",
        "df.keys ()\n",
        "\n",
        "print(df.DESCR)\n",
        "\n",
        "boston = pd.DataFrame(df.data, columns=df.feature_names)\n",
        "boston.head()\n",
        "\n",
        "boston ['MEDV'] = df.target\n",
        "boston.head()\n",
        "\n",
        "boston.insull()\n",
        "boston.insull().sum()\n",
        "\n",
        "from sklearn.model_selection import train_test_split\n",
        "\n",
        "X = boston.drop('MEDV', axis=1)\n",
        "Y = boston ['MEDV']\n",
        "\n",
        "X_train, X_test, Y_train, Y_test = train_test_split(X, Y, test_size = 0.15, ramdom_state = 5)\n",
        "\n",
        "print (X_train.shape)\n",
        "print (X_test.shape)\n",
        "print (Y_train.shape)\n",
        "print (Y_test.shape)\n",
        "\n",
        "from sklearn.linear_model import LinearRegression \n",
        "from sklearn.metrics import mean_squared_error\n",
        "\n",
        "lin_model = LinearRegression()\n",
        "\n",
        "lin_model.fit (X_train, Y_train)\n",
        "\n",
        "y_train_predict = lin_model.predict (X_train) \n",
        "rmse = (np.sqrt(mean_squared_error(Y_train, y_train_predict)))\n",
        "\n",
        " print(\"The model performance for training set\") \n",
        " print('RMSE is {}'.format(rmse)) \n",
        " print(\"\\n\")\n",
        "\n",
        " y_test_predict = lin_model.predict(X_test) \n",
        " rmse = (np.sqrt(mean_squared_error(Y_test, y_test_predict)))\n",
        "\n",
        "print(\"The model performance for testing set\") \n",
        "print('RMSE is {}'.format(rmse))\n"
      ],
      "execution_count": 5,
      "outputs": [
        {
          "output_type": "error",
          "ename": "IndentationError",
          "evalue": "ignored",
          "traceback": [
            "\u001b[0;36m  File \u001b[0;32m\"<ipython-input-5-228e293f7a5b>\"\u001b[0;36m, line \u001b[0;32m43\u001b[0m\n\u001b[0;31m    print(\"The model performance for training set\")\u001b[0m\n\u001b[0m    ^\u001b[0m\n\u001b[0;31mIndentationError\u001b[0m\u001b[0;31m:\u001b[0m unexpected indent\n"
          ]
        }
      ]
    }
  ]
}